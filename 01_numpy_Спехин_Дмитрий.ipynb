{
 "cells": [
  {
   "cell_type": "markdown",
   "metadata": {},
   "source": [
    "# Numpy"
   ]
  },
  {
   "cell_type": "markdown",
   "metadata": {},
   "source": [
    "Материалы:\n",
    "* Макрушин С.В. \"Лекция 1: Библиотека Numpy\"\n",
    "* https://numpy.org/doc/stable/user/index.html\n",
    "* https://numpy.org/doc/stable/reference/index.html"
   ]
  },
  {
   "cell_type": "markdown",
   "metadata": {},
   "source": [
    "## Задачи для совместного разбора"
   ]
  },
  {
   "cell_type": "markdown",
   "metadata": {},
   "source": [
    "1. Сгенерировать двухмерный массив `arr` размерности (4, 7), состоящий из случайных действительных чисел, равномерно распределенных в диапазоне от 0 до 20. Нормализовать значения массива с помощью преобразования вида  $𝑎𝑥+𝑏$  так, что после нормализации максимальный элемент масcива будет равен 1.0, минимальный 0.0"
   ]
  },
  {
   "cell_type": "code",
   "execution_count": 1,
   "metadata": {},
   "outputs": [
    {
     "name": "stdout",
     "output_type": "stream",
     "text": [
      "[[ 2  3 20  5 18  9  0]\n",
      " [13  9  5  7  3 13 12]\n",
      " [16  9 12 19  0 15  8]\n",
      " [10 11  2  8 10  8 10]]\n"
     ]
    }
   ],
   "source": [
    "import numpy as np\n",
    "arr = np.random.randint(0,21, size=(4,7))\n",
    "print(arr)"
   ]
  },
  {
   "cell_type": "markdown",
   "metadata": {},
   "source": [
    "2. Создать матрицу 8 на 10 из случайных целых (используя модуль `numpy.random`) чисел из диапозона от 0 до 10 и найти в ней строку (ее индекс и вывести саму строку), в которой сумма значений минимальна."
   ]
  },
  {
   "cell_type": "code",
   "execution_count": 32,
   "metadata": {},
   "outputs": [
    {
     "name": "stdout",
     "output_type": "stream",
     "text": [
      "[2 6 4 3 7 0 4 3 6 0]\n"
     ]
    }
   ],
   "source": [
    "arr = np.random.randint(0,11, size=(8,10))\n",
    "sum = np.sum(arr, axis=1)\n",
    "min_index = sum.argmin()\n",
    "print(arr[min_index])"
   ]
  },
  {
   "cell_type": "markdown",
   "metadata": {},
   "source": [
    "3. Найти евклидово расстояние между двумя одномерными векторами одинаковой размерности."
   ]
  },
  {
   "cell_type": "markdown",
   "metadata": {},
   "source": [
    "4. Решить матричное уравнение `A*X*B=-C` - найти матрицу `X`. Где `A = [[-1, 2, 4], [-3, 1, 2], [-3, 0, 1]]`, `B=[[3, -1], [2, 1]]`, `C=[[7, 21], [11, 8], [8, 4]]`."
   ]
  },
  {
   "cell_type": "markdown",
   "metadata": {},
   "source": [
    "## Лабораторная работа №1.1"
   ]
  },
  {
   "cell_type": "markdown",
   "metadata": {},
   "source": [
    "Замечание: при решении данных задач не подразумевается использования циклов или генераторов Python, если в задании не сказано обратного. Решение должно опираться на использования функционала библиотеки `numpy`."
   ]
  },
  {
   "cell_type": "markdown",
   "metadata": {},
   "source": [
    "1. Файл `minutes_n_ingredients.csv` содержит информацию об идентификаторе рецепта, времени его выполнения в минутах и количестве необходимых ингредиентов. Считайте данные из этого файла в виде массива `numpy` типа `int32`, используя `np.loadtxt`. Выведите на экран первые 5 строк массива."
   ]
  },
  {
   "cell_type": "code",
   "execution_count": 4,
   "metadata": {},
   "outputs": [
    {
     "name": "stdout",
     "output_type": "stream",
     "text": [
      "[[127244     60     16]\n",
      " [ 23891     25      7]\n",
      " [ 94746     10      6]\n",
      " [ 67660      5      6]\n",
      " [157911     60     14]]\n"
     ]
    }
   ],
   "source": [
    "import numpy as np\n",
    "data = np.loadtxt(r\"minutes_n_ingredients.csv\", delimiter=\",\", dtype=\"int32\", skiprows=1)\n",
    "print(data[0:5, ])"
   ]
  },
  {
   "cell_type": "markdown",
   "metadata": {},
   "source": [
    "2. Вычислите среднее значение, минимум, максимум и медиану по каждому из столбцов, кроме первого."
   ]
  },
  {
   "cell_type": "code",
   "execution_count": 8,
   "metadata": {},
   "outputs": [
    {
     "name": "stdout",
     "output_type": "stream",
     "text": [
      "Среднее значение 2 столбца - 21601.00169\n",
      "Среднее значение 3 столбца - 9.05528\n",
      "Минимальное значение 2 столбца - 0\n",
      "Минимальное значение 3 столбца - 1\n",
      "Максимальное значение 2 столбца - 2147483647\n",
      "Максимальное значение 3 столбца - 39\n",
      "Медиана 2 столбца - 40.0\n",
      "Медиана 3 столбца - 40.0\n"
     ]
    }
   ],
   "source": [
    "avg_value2 = np.average(data[:,1], axis=0)\n",
    "avg_value3 = np.average(data[:,2], axis=0)\n",
    "min_value2 = np.min(data[:,1], axis=0)\n",
    "min_value3 = np.min(data[:,2], axis=0)\n",
    "max_value2 = np.max(data[:,1], axis=0)\n",
    "max_value3 = np.max(data[:,2], axis=0)\n",
    "med_value2 = np.median(data[:,1], axis=0)\n",
    "med_value3 = np.median(data[:,1], axis=0)\n",
    "\n",
    "print(f\"Среднее значение 2 столбца - {avg_value2}\")\n",
    "print(f\"Среднее значение 3 столбца - {avg_value3}\")\n",
    "print(f\"Минимальное значение 2 столбца - {min_value2}\")\n",
    "print(f\"Минимальное значение 3 столбца - {min_value3}\")\n",
    "print(f\"Максимальное значение 2 столбца - {max_value2}\")\n",
    "print(f\"Максимальное значение 3 столбца - {max_value3}\")\n",
    "print(f\"Медиана 2 столбца - {med_value2}\")\n",
    "print(f\"Медиана 3 столбца - {med_value3}\")"
   ]
  },
  {
   "cell_type": "markdown",
   "metadata": {},
   "source": [
    "3. Ограничьте сверху значения продолжительности выполнения рецепта значением квантиля $q_{0.75}$. "
   ]
  },
  {
   "cell_type": "code",
   "execution_count": 10,
   "metadata": {},
   "outputs": [
    {
     "data": {
      "text/plain": [
       "(array([[127244,     60,     16],\n",
       "        [ 23891,     25,      7],\n",
       "        [ 94746,     10,      6],\n",
       "        ...,\n",
       "        [ 43407,     35,      7],\n",
       "        [498432,     65,     15],\n",
       "        [370915,      5,      4]], dtype=int32),\n",
       " (75461, 3))"
      ]
     },
     "execution_count": 10,
     "metadata": {},
     "output_type": "execute_result"
    }
   ],
   "source": [
    "quantile_75 = np.quantile(data[:, 1], 0.75)\n",
    "new_data = data[np.where(data[:, 1] <= quantile_75)[0], :]\n",
    "new_data, new_data.shape"
   ]
  },
  {
   "cell_type": "markdown",
   "metadata": {},
   "source": [
    "4. Посчитайте, для скольких рецептов указана продолжительность, равная нулю. Замените для таких строк значение в данном столбце на 1."
   ]
  },
  {
   "cell_type": "code",
   "execution_count": 9,
   "metadata": {},
   "outputs": [
    {
     "name": "stdout",
     "output_type": "stream",
     "text": [
      "479\n",
      "0\n"
     ]
    }
   ],
   "source": [
    "data_copy = data.copy()\n",
    "print(len(data_copy[data_copy[:, 1] == 0]))\n",
    "data_copy[data_copy[:, 1] == 0] = 1\n",
    "print(len(data_copy[data_copy[:, 1] == 0]))"
   ]
  },
  {
   "cell_type": "markdown",
   "metadata": {},
   "source": [
    "5. Посчитайте, сколько уникальных рецептов находится в датасете."
   ]
  },
  {
   "cell_type": "code",
   "execution_count": 11,
   "metadata": {},
   "outputs": [
    {
     "name": "stdout",
     "output_type": "stream",
     "text": [
      "656\n"
     ]
    }
   ],
   "source": [
    "print(len(np.unique(data[:, 1:])))"
   ]
  },
  {
   "cell_type": "markdown",
   "metadata": {},
   "source": [
    "6. Сколько и каких различных значений кол-ва ингредиентов присутвует в рецептах из датасета?"
   ]
  },
  {
   "cell_type": "code",
   "execution_count": 12,
   "metadata": {},
   "outputs": [
    {
     "name": "stdout",
     "output_type": "stream",
     "text": [
      "Кол-во ингридеентов-1, встретилось 13 раз\n",
      "Кол-во ингридеентов-2, встретилось 926 раз\n",
      "Кол-во ингридеентов-3, встретилось 2895 раз\n",
      "Кол-во ингридеентов-4, встретилось 5515 раз\n",
      "Кол-во ингридеентов-5, встретилось 7913 раз\n",
      "Кол-во ингридеентов-6, встретилось 9376 раз\n",
      "Кол-во ингридеентов-7, встретилось 10628 раз\n",
      "Кол-во ингридеентов-8, встретилось 10951 раз\n",
      "Кол-во ингридеентов-9, встретилось 10585 раз\n",
      "Кол-во ингридеентов-10, встретилось 9591 раз\n",
      "Кол-во ингридеентов-11, встретилось 8297 раз\n",
      "Кол-во ингридеентов-12, встретилось 6605 раз\n",
      "Кол-во ингридеентов-13, встретилось 4997 раз\n",
      "Кол-во ингридеентов-14, встретилось 3663 раз\n",
      "Кол-во ингридеентов-15, встретилось 2595 раз\n",
      "Кол-во ингридеентов-16, встретилось 1767 раз\n",
      "Кол-во ингридеентов-17, встретилось 1246 раз\n",
      "Кол-во ингридеентов-18, встретилось 790 раз\n",
      "Кол-во ингридеентов-19, встретилось 573 раз\n",
      "Кол-во ингридеентов-20, встретилось 376 раз\n",
      "Кол-во ингридеентов-21, встретилось 217 раз\n",
      "Кол-во ингридеентов-22, встретилось 161 раз\n",
      "Кол-во ингридеентов-23, встретилось 105 раз\n",
      "Кол-во ингридеентов-24, встретилось 69 раз\n",
      "Кол-во ингридеентов-25, встретилось 50 раз\n",
      "Кол-во ингридеентов-26, встретилось 28 раз\n",
      "Кол-во ингридеентов-27, встретилось 16 раз\n",
      "Кол-во ингридеентов-28, встретилось 16 раз\n",
      "Кол-во ингридеентов-29, встретилось 12 раз\n",
      "Кол-во ингридеентов-30, встретилось 12 раз\n",
      "Кол-во ингридеентов-31, встретилось 3 раз\n",
      "Кол-во ингридеентов-32, встретилось 1 раз\n",
      "Кол-во ингридеентов-33, встретилось 2 раз\n",
      "Кол-во ингридеентов-34, встретилось 1 раз\n",
      "Кол-во ингридеентов-35, встретилось 3 раз\n",
      "Кол-во ингридеентов-37, встретилось 1 раз\n",
      "Кол-во ингридеентов-39, встретилось 1 раз\n"
     ]
    }
   ],
   "source": [
    "data6, count = np.unique(data[:, 2], return_counts=True)\n",
    "for i, j in zip(data6, count):\n",
    "    print(f\"Кол-во ингридеентов-{i}, встретилось {j} раз\")"
   ]
  },
  {
   "cell_type": "markdown",
   "metadata": {},
   "source": [
    "7. Создайте версию массива, содержащую информацию только о рецептах, состоящих не более чем из 5 ингредиентов."
   ]
  },
  {
   "cell_type": "code",
   "execution_count": 13,
   "metadata": {},
   "outputs": [
    {
     "data": {
      "text/plain": [
       "array([[446597,     15,      5],\n",
       "       [204134,      5,      3],\n",
       "       [ 25623,      6,      4],\n",
       "       ...,\n",
       "       [ 52088,     60,      5],\n",
       "       [128811,     15,      4],\n",
       "       [370915,      5,      4]], dtype=int32)"
      ]
     },
     "execution_count": 13,
     "metadata": {},
     "output_type": "execute_result"
    }
   ],
   "source": [
    "recipes5 = data[data[:, 2] <= 5]\n",
    "recipes5"
   ]
  },
  {
   "cell_type": "markdown",
   "metadata": {},
   "source": [
    "8. Для каждого рецепта посчитайте, сколько в среднем ингредиентов приходится на одну минуту рецепта. Найдите максимальное значение этой величины для всего датасета"
   ]
  },
  {
   "cell_type": "code",
   "execution_count": null,
   "metadata": {},
   "outputs": [],
   "source": []
  },
  {
   "cell_type": "markdown",
   "metadata": {},
   "source": [
    "9. Вычислите среднее количество ингредиентов для топ-100 рецептов с наибольшей продолжительностью"
   ]
  },
  {
   "cell_type": "code",
   "execution_count": 19,
   "metadata": {},
   "outputs": [
    {
     "name": "stdout",
     "output_type": "stream",
     "text": [
      "Среднее количество ингредиентов для топ-100 рецептов: 6.61\n"
     ]
    }
   ],
   "source": [
    "data9 = data.copy()\n",
    "sorted_data9 = data9[data9[:, 1].argsort()[::-1]]\n",
    "\n",
    "top_100_recipes = sorted_data9[:100]\n",
    "\n",
    "avg_ingredients = np.average(top_100_recipes[:, 2])\n",
    "\n",
    "print(\"Среднее количество ингредиентов для топ-100 рецептов:\", avg_ingredients)\n"
   ]
  },
  {
   "cell_type": "markdown",
   "metadata": {},
   "source": [
    "10. Выберите случайным образом и выведите информацию о 10 различных рецептах"
   ]
  },
  {
   "cell_type": "code",
   "execution_count": 21,
   "metadata": {},
   "outputs": [
    {
     "name": "stdout",
     "output_type": "stream",
     "text": [
      "Информация о случайно выбранных рецептах:\n",
      "[[140047    250      6]\n",
      " [310391      5      5]\n",
      " [  2793      0      7]\n",
      " [292952     90      5]\n",
      " [250870    105      8]\n",
      " [314537     45     18]\n",
      " [115765     65      8]\n",
      " [290433     50      8]\n",
      " [ 55505     25      9]\n",
      " [314320     30      9]]\n"
     ]
    }
   ],
   "source": [
    "random_indices = np.random.choice(len(data), size=10, replace=False)\n",
    "\n",
    "random_recipes = data[random_indices]\n",
    "\n",
    "print(\"Информация о случайно выбранных рецептах:\")\n",
    "print(random_recipes)"
   ]
  },
  {
   "cell_type": "markdown",
   "metadata": {},
   "source": [
    "11. Выведите процент рецептов, кол-во ингредиентов в которых меньше среднего."
   ]
  },
  {
   "cell_type": "code",
   "execution_count": 22,
   "metadata": {},
   "outputs": [
    {
     "name": "stdout",
     "output_type": "stream",
     "text": [
      "Процент рецептов, количество ингредиентов в которых меньше среднего: 58.802 %\n"
     ]
    }
   ],
   "source": [
    "filtered_recipes = data[data[:, 2] < avg_value3]\n",
    "\n",
    "num_filtered_recipes = len(filtered_recipes)\n",
    "total_recipes = len(data)\n",
    "procent = (num_filtered_recipes / total_recipes) * 100\n",
    "\n",
    "print(\"Процент рецептов, количество ингредиентов в которых меньше среднего:\", procent, \"%\")"
   ]
  },
  {
   "cell_type": "markdown",
   "metadata": {},
   "source": [
    "12. Назовем \"простым\" такой рецепт, длительность выполнения которого не больше 20 минут и кол-во ингредиентов в котором не больше 5. Создайте версию датасета с дополнительным столбцом, значениями которого являются 1, если рецепт простой, и 0 в противном случае."
   ]
  },
  {
   "cell_type": "code",
   "execution_count": 30,
   "metadata": {},
   "outputs": [],
   "source": [
    "recipes = (data[:, 1] <= 20) & (data[:, 2] <= 5)\n",
    "\n",
    "simple_column = np.where(recipes, 1, 0)\n",
    "simple_column\n",
    "data_with_column = np.column_stack((data, simple_column))\n",
    "\n",
    "#print(data_with_column)"
   ]
  },
  {
   "cell_type": "markdown",
   "metadata": {},
   "source": [
    "13. Выведите процент \"простых\" рецептов в датасете"
   ]
  },
  {
   "cell_type": "code",
   "execution_count": 28,
   "metadata": {},
   "outputs": [
    {
     "name": "stdout",
     "output_type": "stream",
     "text": [
      "Процент простых рецептов: 9.552 %\n"
     ]
    }
   ],
   "source": [
    "count = np.sum(data_with_column[:, 3])\n",
    "print(\"Процент простых рецептов:\", count / total_recipes * 100, \"%\")"
   ]
  },
  {
   "cell_type": "markdown",
   "metadata": {},
   "source": [
    "14. Разделим рецепты на группы по следующему правилу. Назовем рецепты короткими, если их продолжительность составляет менее 10 минут; стандартными, если их продолжительность составляет более 10, но менее 20 минут; и длинными, если их продолжительность составляет не менее 20 минут. Создайте трехмерный массив, где нулевая ось отвечает за номер группы (короткий, стандартный или длинный рецепт), первая ось - за сам рецепт и вторая ось - за характеристики рецепта. Выберите максимальное количество рецептов из каждой группы таким образом, чтобы было возможно сформировать трехмерный массив. Выведите форму полученного массива."
   ]
  }
 ],
 "metadata": {
  "kernelspec": {
   "display_name": "Python 3 (ipykernel)",
   "language": "python",
   "name": "python3"
  },
  "language_info": {
   "codemirror_mode": {
    "name": "ipython",
    "version": 3
   },
   "file_extension": ".py",
   "mimetype": "text/x-python",
   "name": "python",
   "nbconvert_exporter": "python",
   "pygments_lexer": "ipython3",
   "version": "3.11.5"
  }
 },
 "nbformat": 4,
 "nbformat_minor": 4
}
